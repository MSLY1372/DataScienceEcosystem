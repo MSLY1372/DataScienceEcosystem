{
 "cells": [
  {
   "cell_type": "markdown",
   "id": "c1626931",
   "metadata": {},
   "source": [
    "Data Science Tools and Ecosystem"
   ]
  },
  {
   "cell_type": "markdown",
   "id": "c0b09b5b",
   "metadata": {},
   "source": [
    "In this notebook, Data Science Tools and Ecosystem are summarized."
   ]
  },
  {
   "cell_type": "markdown",
   "id": "c17281b5",
   "metadata": {},
   "source": [
    "Some of the popular languages that Data Scientists use are:\n",
    "    Python\n",
    "    R\n",
    "    SQL"
   ]
  },
  {
   "cell_type": "code",
   "execution_count": null,
   "id": "35c6610b",
   "metadata": {},
   "outputs": [],
   "source": [
    "# Some of the commonly used libraries used by Data Scientists include:\n",
    "# 1. Pandas\n",
    "# 2. NumPy\n",
    "# 3. Matplotlib"
   ]
  },
  {
   "cell_type": "markdown",
   "id": "083138db",
   "metadata": {},
   "source": [
    "| Data Science Tools    |\n",
    "|-----------------------|\n",
    "| Jupyter Notebook      |\n",
    "| RStudio               |\n",
    "| Apache Zeppelin       |"
   ]
  },
  {
   "cell_type": "code",
   "execution_count": 8,
   "id": "b4ee9f29",
   "metadata": {},
   "outputs": [],
   "source": [
    "###Below are a few examples of evaluating arithmetic expressions in Python"
   ]
  },
  {
   "cell_type": "code",
   "execution_count": 9,
   "id": "2a45e355",
   "metadata": {},
   "outputs": [
    {
     "data": {
      "text/plain": [
       "17"
      ]
     },
     "execution_count": 9,
     "metadata": {},
     "output_type": "execute_result"
    }
   ],
   "source": [
    "# This is a simple arithmetic expression to multiply then add integers.\n",
    "result = (3 * 4) + 5\n",
    "result"
   ]
  },
  {
   "cell_type": "code",
   "execution_count": 10,
   "id": "6c96ef90",
   "metadata": {
    "scrolled": true
   },
   "outputs": [
    {
     "data": {
      "text/plain": [
       "3.3333333333333335"
      ]
     },
     "execution_count": 10,
     "metadata": {},
     "output_type": "execute_result"
    }
   ],
   "source": [
    "# This will convert 200 minutes to hours by dividing by 60.\n",
    "hours = 200 / 60\n",
    "hours"
   ]
  },
  {
   "cell_type": "code",
   "execution_count": 1,
   "id": "49d337c2",
   "metadata": {},
   "outputs": [],
   "source": [
    "# **Objectives:**\n",
    "# - popular languages for Data Science:\n",
    "    #1. Python\n",
    "    #2. R\n",
    "    #3. SQL\n",
    "# Some of the commonly used libraries used by Data Scientists include:\n",
    "    # 1. Pandas\n",
    "    # 2. NumPy\n",
    "    # 3. Matplotlib\n"
   ]
  },
  {
   "cell_type": "code",
   "execution_count": null,
   "id": "301c0a9d",
   "metadata": {},
   "outputs": [],
   "source": [
    "## Author\n",
    "#Maryam Saaly"
   ]
  }
 ],
 "metadata": {
  "kernelspec": {
   "display_name": "Python 3 (ipykernel)",
   "language": "python",
   "name": "python3"
  },
  "language_info": {
   "codemirror_mode": {
    "name": "ipython",
    "version": 3
   },
   "file_extension": ".py",
   "mimetype": "text/x-python",
   "name": "python",
   "nbconvert_exporter": "python",
   "pygments_lexer": "ipython3",
   "version": "3.9.7"
  }
 },
 "nbformat": 4,
 "nbformat_minor": 5
}
